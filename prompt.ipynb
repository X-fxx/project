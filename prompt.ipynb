{
 "cells": [
  {
   "cell_type": "code",
   "execution_count": 3,
   "metadata": {},
   "outputs": [],
   "source": [
    "system_prompt = \"\"\"你的角色是脚本书写专家,你的任务是帮助用户生成符合要求的脚本。\"\"\"\n",
    "get_subject_prompt = \"\"\"\n",
    "约束: 约束是你必须遵守的规则\n",
    "1. 如果输入的文本长度超过了上下文的长度限制, 请先总结之前读取的内容, 再对后面的内容进行分析;\n",
    "2. 对输入的主题进行正确的理解;\n",
    "3. 输出主题、主要人物、风格、场景与画面、人物表演与对白、备注等字段。\n",
    "输入:\n",
    "此次脚本的主题为{text}, 共需要生成{num}个画面。\n",
    "输出:\n",
    "1.不要输出 markdown 格式,不要输出 markdown 格式,不要输出 markdown 格式\n",
    "2. 输出 json 格式。格式请参考输出示例。请注意 json 字段的值,换行要用转义字符 \\n 表示,不要直接输出换行符\n",
    "备注：数组,为空可忽略\n",
    "风格：{\"Comic style\", \"Relastic style\", \"Landscape painting style\"} 数组,为空可忽略\n",
    "3. 输出示例：\n",
    "{\"overview\":{\"主题\":  \"?\",\t\"主要人物\": \"?\",\"风格\": \"?\"},\n",
    "  \"script\": [{\"序号\": \"1\",\"场景与画面\": \"?\",\"人物表演与对白\": \"旁白\"：\"?\",\"备注\": \"?\"},\n",
    "    {\"序号\": \"2\",\"场景与画面\": \"?\",\"人物表演与对白\": \"?\", \"备注\": \"?\"},\n",
    "\"\"\""
   ]
  },
  {
   "cell_type": "code",
   "execution_count": 1,
   "metadata": {},
   "outputs": [
    {
     "name": "stderr",
     "output_type": "stream",
     "text": [
      "/data1/fengzhixin/conda/.conda/envs/glm/lib/python3.9/site-packages/tqdm/auto.py:21: TqdmWarning: IProgress not found. Please update jupyter and ipywidgets. See https://ipywidgets.readthedocs.io/en/stable/user_install.html\n",
      "  from .autonotebook import tqdm as notebook_tqdm\n"
     ]
    }
   ],
   "source": [
    "from transformers import AutoTokenizer, AutoModel\n",
    "import os\n",
    "os.environ[\"CUDA_VISIBLE_DEVICES\"] = \"0\"\n",
    "tokenizer = AutoTokenizer.from_pretrained(\"THUDM/chatglm3-6b\", trust_remote_code=True)\n",
    "model = AutoModel.from_pretrained(\"THUDM/chatglm3-6b\", trust_remote_code=True).half().cuda()\n",
    "model = model.eval()\n",
    "response, history = model.chat(tokenizer, \"你好\", history=[])\n",
    "print(response)\n",
    "response, history = model.chat(tokenizer, \"晚上睡不着应该怎么办\", history=history)\n",
    "print(response)"
   ]
  },
  {
   "cell_type": "code",
   "execution_count": null,
   "metadata": {},
   "outputs": [],
   "source": [
    "# 生成prompt和negative prompt\n",
    "prompt = \"\"\"\n",
    "你的角色是脚本润色家, 任务是根据输入的脚本场景, 生成prompt和negative prompt.\n",
    "约束：约束是你必须要遵守的规定\n",
    "1. prompt和negative prompt不能超过50个token;\n",
    "2. prompt中的内容是与脚本场景相关的内容, 可以是对人物细节的描述, 也可以是对场景细节的描述, 还可以是对画质和分辨率的要求；\n",
    "3. negative prompt中的内容是与脚本场景不相关的内容, 可以是对人物细节的描述, 也可以是对场景细节的描述, 还可以是对画质和分辨率的要求；\n",
    "4. prompt和negative prompt的描述要符合脚本场景的风格\n",
    "输出：\n",
    "1.不要输出 markdown 格式,不要输出 markdown 格式,不要输出 markdown 格式\n",
    "2. 输出 json 格式。格式请参考输出示例。请注意 json 字段的值,换行要用转义字符 \\n 表示,不要直接输出换行符\n",
    "3. 备注：数组,为空可忽略\n",
    "请按照上述要求, 完成下面的输出:\n",
    "输入: 场景描述为{sence}, 人物对话为{dialog}\n",
    "输出: \n",
    "prompt:\n",
    "negative_prompt: \n",
    "\"\"\""
   ]
  }
 ],
 "metadata": {
  "kernelspec": {
   "display_name": "Python 3",
   "language": "python",
   "name": "python3"
  },
  "language_info": {
   "codemirror_mode": {
    "name": "ipython",
    "version": 3
   },
   "file_extension": ".py",
   "mimetype": "text/x-python",
   "name": "python",
   "nbconvert_exporter": "python",
   "pygments_lexer": "ipython3",
   "version": "3.9.19"
  }
 },
 "nbformat": 4,
 "nbformat_minor": 2
}
